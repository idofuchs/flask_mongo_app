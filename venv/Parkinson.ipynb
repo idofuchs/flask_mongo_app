{
  "cells": [
    {
      "cell_type": "markdown",
      "metadata": {},
      "source": [
        "# Parkinson "
      ]
    },
    {
      "cell_type": "markdown",
      "metadata": {},
      "source": [
        "##### imports "
      ]
    },
    {
      "cell_type": "code",
      "execution_count": 1,
      "metadata": {
        "id": "m-HMPUOdga2w"
      },
      "outputs": [],
      "source": [
        "import pandas as pd\n",
        "import seaborn as sns\n",
        "import matplotlib.pyplot as plt\n",
        "import numpy as np\n",
        "from sklearn.model_selection import train_test_split\n",
        "from sklearn.neighbors import KNeighborsClassifier\n",
        "from sklearn.preprocessing import MinMaxScaler, StandardScaler\n",
        "from sklearn.metrics import classification_report, confusion_matrix, plot_confusion_matrix\n",
        "from matplotlib import patches\n",
        "from matplotlib.patches import Circle, Wedge, Polygon, Ellipse\n",
        "from sklearn.model_selection import cross_val_score\n",
        "from sklearn.model_selection import GridSearchCV"
      ]
    },
    {
      "cell_type": "markdown",
      "metadata": {},
      "source": [
        "# EDA"
      ]
    },
    {
      "cell_type": "code",
      "execution_count": 2,
      "metadata": {},
      "outputs": [],
      "source": [
        "PD = pd.read_csv('Parkinsson disease.csv')"
      ]
    },
    {
      "cell_type": "code",
      "execution_count": 3,
      "metadata": {
        "id": "aa32EwLXl-wj"
      },
      "outputs": [],
      "source": [
        "PD.rename(columns={'status':'parkinson'}, inplace=True) # Rename label column: \"status\" to \"parkinson\" - More intuitive."
      ]
    },
    {
      "cell_type": "code",
      "execution_count": 4,
      "metadata": {
        "id": "0oDdsQJTVZ1h"
      },
      "outputs": [],
      "source": [
        "PD.drop('name',axis=1,inplace=True) # No classification use for name column."
      ]
    },
    {
      "cell_type": "code",
      "execution_count": 5,
      "metadata": {
        "id": "BIRvaVTiobYi"
      },
      "outputs": [],
      "source": [
        "PD['parkinson'] = PD.pop('parkinson') # Move our label to the last column."
      ]
    },
    {
      "cell_type": "code",
      "execution_count": 6,
      "metadata": {},
      "outputs": [],
      "source": [
        "PD = PD.drop(['NHR','MDVP:Fhi(Hz)'],axis=1)"
      ]
    },
    {
      "cell_type": "code",
      "execution_count": 7,
      "metadata": {},
      "outputs": [
        {
          "name": "stderr",
          "output_type": "stream",
          "text": [
            "/var/folders/6c/8vf2rmd95yj81vm_1b2ngyth0000gn/T/ipykernel_18575/1395952676.py:1: SettingWithCopyWarning: \n",
            "A value is trying to be set on a copy of a slice from a DataFrame\n",
            "\n",
            "See the caveats in the documentation: https://pandas.pydata.org/pandas-docs/stable/user_guide/indexing.html#returning-a-view-versus-a-copy\n",
            "  PD[\"MDVP:Fo(Hz)\"][(PD[\"MDVP:Fo(Hz)\"]<150)&(PD[\"parkinson\"]<0.2)] = 219\n"
          ]
        }
      ],
      "source": [
        "PD[\"MDVP:Fo(Hz)\"][(PD[\"MDVP:Fo(Hz)\"]<150)&(PD[\"parkinson\"]<0.2)] = 219"
      ]
    },
    {
      "cell_type": "markdown",
      "metadata": {},
      "source": [
        "# SPLITING THE DATA"
      ]
    },
    {
      "cell_type": "code",
      "execution_count": 8,
      "metadata": {
        "id": "TE7q3qT2QtF_"
      },
      "outputs": [],
      "source": [
        "#splitting into X (Feature Only Dataframe) and Y (Label Only Dataframe).\n",
        "X = PD.drop('parkinson',axis=1)\n",
        "Y = PD['parkinson']"
      ]
    },
    {
      "cell_type": "code",
      "execution_count": 9,
      "metadata": {
        "id": "bLXSA4i02Dze"
      },
      "outputs": [],
      "source": [
        "X_train, X_test, Y_train, Y_test = train_test_split(X, Y, test_size=0.23, random_state=420) # Train test split."
      ]
    },
    {
      "cell_type": "code",
      "execution_count": 10,
      "metadata": {
        "id": "vz7Fm3bC2ghq"
      },
      "outputs": [],
      "source": [
        "#scaling the data using the MinMax Scaler.\n",
        "scaler = MinMaxScaler()\n",
        "X_train = scaler.fit_transform(X_train) # Fit the X_train data on the scaler and scale it accordingly \n",
        "X_test = scaler.transform(X_test) # Scale the X_test data"
      ]
    },
    {
      "cell_type": "code",
      "execution_count": 11,
      "metadata": {
        "colab": {
          "base_uri": "https://localhost:8080/"
        },
        "id": "Jtug9ko7gXFE",
        "outputId": "088cb894-edb7-4e3d-a43e-ba89a3b447cc"
      },
      "outputs": [
        {
          "data": {
            "text/plain": [
              "[numpy.ndarray,\n",
              " pandas.core.series.Series,\n",
              " numpy.ndarray,\n",
              " pandas.core.series.Series]"
            ]
          },
          "execution_count": 11,
          "metadata": {},
          "output_type": "execute_result"
        }
      ],
      "source": [
        "[type(d) for d in [X_train, Y_train, X_test, Y_test]] # Check which data might be susceptible to incorrect indexing"
      ]
    },
    {
      "cell_type": "code",
      "execution_count": 12,
      "metadata": {
        "id": "xAFGjJ8hgxfH"
      },
      "outputs": [],
      "source": [
        "#fix indexing accordingly\n",
        "Y_test.reset_index(drop=True, inplace=True)\n",
        "Y_train.reset_index(drop=True, inplace=True)"
      ]
    },
    {
      "cell_type": "markdown",
      "metadata": {},
      "source": [
        "# KNN"
      ]
    },
    {
      "cell_type": "code",
      "execution_count": 13,
      "metadata": {},
      "outputs": [
        {
          "name": "stdout",
          "output_type": "stream",
          "text": [
            "0.9777777777777777\n",
            "AxesSubplot(0.125,0.11;0.62x0.77)\n"
          ]
        },
        {
          "data": {
            "image/png": "[encoded data removed]",
            "text/plain": [
              "<Figure size 640x480 with 2 Axes>"
            ]
          },
          "metadata": {},
          "output_type": "display_data"
        }
      ],
      "source": [
        "knn_classifier = KNeighborsClassifier(n_neighbors = 3, metric = 'minkowski', p = 2)\n",
        "knn_classifier.fit(X_train, Y_train)\n",
        "print(knn_classifier.score(X_test, Y_test)) \n",
        "y_pred = knn_classifier.predict(X_test)\n",
        "cm = confusion_matrix(Y_test, y_pred)\n",
        "print(sns.heatmap(cm, annot=True, fmt=\"d\"))"
      ]
    },
    {
      "cell_type": "markdown",
      "metadata": {},
      "source": [
        "### Applying __K-FOLD__ on the _data_ "
      ]
    },
    {
      "cell_type": "code",
      "execution_count": 14,
      "metadata": {},
      "outputs": [
        {
          "name": "stdout",
          "output_type": "stream",
          "text": [
            "Accuracy: 98.00 %\n",
            "Standard Deviation: 3.06 %\n"
          ]
        },
        {
          "data": {
            "text/plain": [
              "array([1.        , 1.        , 1.        , 0.93333333, 1.        ,\n",
              "       1.        , 0.93333333, 0.93333333, 1.        , 1.        ])"
            ]
          },
          "execution_count": 14,
          "metadata": {},
          "output_type": "execute_result"
        }
      ],
      "source": [
        "from sklearn.model_selection import cross_val_score\n",
        "#K-Fold Cross Validation\n",
        "accuracies = cross_val_score(estimator = knn_classifier, X = X_train, y = Y_train, cv = 10)\n",
        "\n",
        "print(\"Accuracy: {:.2f} %\".format(accuracies.mean()*100))  #<-------------------mean\n",
        "print(\"Standard Deviation: {:.2f} %\".format(accuracies.std()*100))#<------------------std\n",
        "accuracies"
      ]
    },
    {
      "cell_type": "markdown",
      "metadata": {},
      "source": [
        "#### Checking with __Grid Search__ the best parameters"
      ]
    },
    {
      "cell_type": "code",
      "execution_count": 15,
      "metadata": {},
      "outputs": [
        {
          "name": "stdout",
          "output_type": "stream",
          "text": [
            "Best Parameters: {'metric': 'minkowski', 'n_neighbors': 7, 'p': 1}\n"
          ]
        }
      ],
      "source": [
        "#grid Search\n",
        "parameters = {'n_neighbors': [ 2,3, 5, 7, 1, 9, 11, 13], 'metric': ['minkowski','manhattan','cosine'], 'p': [1, 2, 3, 4, 5, 6, 7, 8, 9, 10, 11, 12]}\n",
        "grid_search = GridSearchCV(estimator = knn_classifier,\n",
        "                           param_grid = parameters,\n",
        "                           scoring = 'accuracy',\n",
        "                           cv = 10,\n",
        "                           n_jobs = -1)\n",
        "grid_search.fit(X_train, Y_train)\n",
        "best_accuracy = grid_search.best_score_\n",
        "best_parameters = grid_search.best_params_#<-----------------------------the best\n",
        "print(\"Best Parameters:\", best_parameters)"
      ]
    },
    {
      "cell_type": "markdown",
      "metadata": {},
      "source": [
        "### KNN after improvments"
      ]
    },
    {
      "cell_type": "code",
      "execution_count": 16,
      "metadata": {},
      "outputs": [
        {
          "name": "stdout",
          "output_type": "stream",
          "text": [
            "1.0\n",
            "[1 0 0 1 1 1 0 1 0 1 1 1 1 1 1 0 1 1 1 0 1 1 1 1 1 1 1 1 1 0 0 1 0 1 1 1 1\n",
            " 0 1 1 1 1 1 1 1]\n",
            "1.0\n"
          ]
        }
      ],
      "source": [
        "knn_classifier = KNeighborsClassifier(n_neighbors = 7, metric = 'minkowski', p = 1)\n",
        "knn_classifier.fit(X_train, Y_train)\n",
        "knn_score = knn_classifier.score(X_test, Y_test)\n",
        "print(knn_score)\n",
        "Y_pred = knn_classifier.predict(X_test)\n",
        "print(Y_pred)\n",
        "\n",
        "#cm = confusion_matrix(Y_test, Y_pred)\n",
        "#print(sns.heatmap(cm, annot=True, fmt='d'))\n",
        "print(knn_score)\n",
        "\n",
        "knn_dict = {'model': knn_classifier, 'score': knn_score, \"scaler\":scaler}"
      ]
    },
    {
      "cell_type": "markdown",
      "metadata": {},
      "source": [
        "# SAVING TO MongoDB"
      ]
    },
    {
      "cell_type": "code",
      "execution_count": 17,
      "metadata": {},
      "outputs": [],
      "source": [
        "def save_model_to_db(dict, client, db, dbconnection, model_name):\n",
        "    import pickle\n",
        "    import time\n",
        "    import pymongo\n",
        "    #pickling the model\n",
        "    pickled_model = pickle.dumps(dict[\"model\"])\n",
        "    pickled_scaler = pickle.dumps(dict[\"scaler\"])\n",
        "    dict[\"model\"]=pickled_model\n",
        "    dict[\"scaler\"]=pickled_scaler\n",
        "    \n",
        "    #saving model to mongoDB\n",
        "    #creating connection\n",
        "    myclient = pymongo.MongoClient(client)\n",
        "    \n",
        "    #creating database in mongodb\n",
        "    mydb = myclient[db]\n",
        "    \n",
        "    #creating collection\n",
        "    mycon = mydb[dbconnection]\n",
        "    info = mycon.insert_one({model_name: pickled_model, 'name': model_name, 'created_time':time.time(),\"score\":dict[\"score\"],\"scaler\":pickled_scaler})\n",
        "    print(info.inserted_id, ' saved with this id successfully!')\n",
        "    \n",
        "    details = {\n",
        "        'inserted_id':info.inserted_id,\n",
        "        'model_name':model_name,\n",
        "        'created_time':time.time()\n",
        "    }\n",
        "    return details"
      ]
    },
    {
      "cell_type": "code",
      "execution_count": 18,
      "metadata": {},
      "outputs": [
        {
          "name": "stdout",
          "output_type": "stream",
          "text": [
            "636cb96a1881e568162fd4bf  saved with this id successfully!\n"
          ]
        },
        {
          "data": {
            "text/plain": [
              "{'inserted_id': ObjectId('636cb96a1881e568162fd4bf'),\n",
              " 'model_name': 'first_model',\n",
              " 'created_time': 1668069738.727374}"
            ]
          },
          "execution_count": 18,
          "metadata": {},
          "output_type": "execute_result"
        }
      ],
      "source": [
        "#saving knn model to mongoDB\n",
        "save_model_to_db(knn_dict, 'mongodb://localhost:27017', 'Parkinson_Prediction', 'knn_model', 'first_model')"
      ]
    }
  ],
  "metadata": {
    "colab": {
      "collapsed_sections": [],
      "name": "Final_Project_Ofri_Daniel.ipynb",
      "provenance": []
    },
    "kernelspec": {
      "display_name": "Python 3.10.4 64-bit",
      "language": "python",
      "name": "python3"
    },
    "language_info": {
      "codemirror_mode": {
        "name": "ipython",
        "version": 3
      },
      "file_extension": ".py",
      "mimetype": "text/x-python",
      "name": "python",
      "nbconvert_exporter": "python",
      "pygments_lexer": "ipython3",
      "version": "3.11.0"
    },
    "vscode": {
      "interpreter": {
        "hash": "aee8b7b246df8f9039afb4144a1f6fd8d2ca17a180786b69acc140d282b71a49"
      }
    }
  },
  "nbformat": 4,
  "nbformat_minor": 0
}
